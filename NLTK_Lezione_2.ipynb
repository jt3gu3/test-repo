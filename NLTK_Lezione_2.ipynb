{
  "nbformat": 4,
  "nbformat_minor": 0,
  "metadata": {
    "colab": {
      "provenance": [],
      "include_colab_link": true
    },
    "kernelspec": {
      "name": "python3",
      "display_name": "Python 3"
    },
    "language_info": {
      "name": "python"
    }
  },
  "cells": [
    {
      "cell_type": "markdown",
      "metadata": {
        "id": "view-in-github",
        "colab_type": "text"
      },
      "source": [
        "<a href=\"https://colab.research.google.com/github/jt3gu3/test-repo/blob/main/NLTK_Lezione_2.ipynb\" target=\"_parent\"><img src=\"https://colab.research.google.com/assets/colab-badge.svg\" alt=\"Open In Colab\"/></a>"
      ]
    },
    {
      "cell_type": "code",
      "execution_count": null,
      "metadata": {
        "id": "o8Qj8h6Qv3Zz"
      },
      "outputs": [],
      "source": [
        "#Lezione 2 - 07/02/2025 NLTK https://www.nltk.org/index.html"
      ]
    },
    {
      "cell_type": "code",
      "execution_count": null,
      "metadata": {
        "id": "ra_kv1HfEZ9C"
      },
      "outputs": [],
      "source": [
        "%pip install pandas nltk matplotlib"
      ]
    },
    {
      "cell_type": "code",
      "source": [
        "# per una visualizzazione dei dati in forma tabellare\n",
        "from google.colab import data_table\n",
        "data_table.enable_dataframe_formatter()"
      ],
      "metadata": {
        "id": "ui5f0i7IVmT_"
      },
      "execution_count": null,
      "outputs": []
    },
    {
      "cell_type": "markdown",
      "metadata": {
        "id": "Rw6sfAk7EZ9H"
      },
      "source": [
        "## Pandas - Leggere file csv"
      ]
    },
    {
      "cell_type": "code",
      "execution_count": null,
      "metadata": {
        "id": "cL487onDEZ9I"
      },
      "outputs": [],
      "source": [
        "import pandas as pd\n",
        "#from google.colab import files #specifico per ambiente Google colab"
      ]
    },
    {
      "cell_type": "code",
      "source": [
        "#uploaded = files.upload()\n",
        "#file_path = list(uploaded.keys())[0] # Ottieni il nome del file caricato"
      ],
      "metadata": {
        "id": "9RvRn_3fLGAq"
      },
      "execution_count": null,
      "outputs": []
    },
    {
      "cell_type": "code",
      "execution_count": null,
      "metadata": {
        "id": "n1wge_mgEZ9J"
      },
      "outputs": [],
      "source": [
        "#utilizziamo il metodo read_csv per leggere il file csv\n",
        "source_file = '/content/chatbot_csv.csv'\n",
        "try:\n",
        "    # il valore di ritorno è un DataFrame\n",
        "\n",
        "    data = pd.read_csv(\n",
        "          source_file,\n",
        "          sep=';', # default è ','\n",
        "          encoding='ISO-8859-1', # default è 'utf-8'. ISO-8859-1 è il formato di codifica dei caratteri per lingue europee e anche caratteri speciali e accenti\n",
        "          on_bad_lines='skip' # in caso di errori di parsing, ad es. virgolette non chiuse, salta quella riga\n",
        "          )\n",
        "   # se pandas non riesce a interpretare correttamente il contenuto del CSV\n",
        "except pd.errors.ParserError as e:\n",
        "    print(f\"Error reading CSV: {e}\")\n",
        "    #cattura gli errori di codifica dei caratteri (prova a modificare l'encoding ad esempio utf-8)\n",
        "except UnicodeDecodeError as e:\n",
        "    print(f\"Encoding error: {e}\")\n",
        "    #file non trovato\n",
        "except FileNotFoundError:\n",
        "        print(\"File not found at specified path\")\n",
        "        #cattura qualsiasi altro tipo di errore che non rientra nei casi precedenti.\n",
        "except Exception as e:\n",
        "        print(f\"Other error: {type(e).__name__}: {str(e)}\") #stampo il tipo di errore e il messaggio di errore"
      ]
    },
    {
      "cell_type": "code",
      "execution_count": null,
      "metadata": {
        "id": "em-MJU2oEZ9L"
      },
      "outputs": [],
      "source": [
        "#type(data)\n",
        "#data.__doc__\n",
        "#data # per visualizzare il file csv con il formatter di google"
      ]
    },
    {
      "cell_type": "code",
      "execution_count": null,
      "metadata": {
        "id": "hS32qvM8EZ9L"
      },
      "outputs": [],
      "source": [
        "#visualizziamo le prime n righe del dataset\n",
        "print(data[:5])\n"
      ]
    },
    {
      "cell_type": "code",
      "execution_count": null,
      "metadata": {
        "id": "BfkONBkGEZ9M"
      },
      "outputs": [],
      "source": [
        "# Verifica i tipi di dati, le colonne e le righe\n",
        "#data.dtypes\n",
        "#data.columns # torna i nomi delle colonne\n",
        "#len(data) # torna il numero di righe"
      ]
    },
    {
      "cell_type": "code",
      "execution_count": null,
      "metadata": {
        "id": "mCflB0bHEZ9N"
      },
      "outputs": [],
      "source": [
        "#info sul dataframe, sulla struttura dati\n",
        "#data.info()"
      ]
    },
    {
      "cell_type": "code",
      "execution_count": null,
      "metadata": {
        "id": "7cpNfNLYEZ9O"
      },
      "outputs": [],
      "source": [
        "#data.isnull() #verifica se ci sono valori nulli e li visualizza"
      ]
    },
    {
      "cell_type": "code",
      "execution_count": null,
      "metadata": {
        "id": "zyGmIPX_EZ9P"
      },
      "outputs": [],
      "source": [
        "#calcola il numero di valori nulli per ciascuna colonna\n",
        "#data.isnull().sum()"
      ]
    },
    {
      "cell_type": "code",
      "execution_count": null,
      "metadata": {
        "id": "TC1skDYEEZ9P"
      },
      "outputs": [],
      "source": [
        "# Elimina le righe con valori nulli - pulizia dei dati\n",
        "data.dropna(inplace=True) #modifico il dataframe originale"
      ]
    },
    {
      "cell_type": "code",
      "execution_count": null,
      "metadata": {
        "id": "ehg9rPP0EZ9Q"
      },
      "outputs": [],
      "source": [
        "# Visualizziamo i dati statistici: conteggio, media, deviazione standard, minimo, massimo e percentili\n",
        "#data.describe()"
      ]
    },
    {
      "cell_type": "code",
      "execution_count": null,
      "metadata": {
        "id": "Mi3Ve2uKEZ9Q"
      },
      "outputs": [],
      "source": [
        "# Distribuzione per mese\n",
        "#data['Data'].value_counts()"
      ]
    },
    {
      "cell_type": "code",
      "execution_count": null,
      "metadata": {
        "id": "63E-BbsIEZ9Q"
      },
      "outputs": [],
      "source": [
        "#data['Data'].value_counts().plot(kind='pie')"
      ]
    },
    {
      "cell_type": "code",
      "execution_count": null,
      "metadata": {
        "id": "raMgLykVEZ9Q"
      },
      "outputs": [],
      "source": [
        "# Frequenza dei diversi intent\n",
        "#data['Intent'].value_counts()"
      ]
    },
    {
      "cell_type": "code",
      "source": [
        "#data['Intent'].value_counts().plot(kind='pie')"
      ],
      "metadata": {
        "id": "DM6MBmpHZCHL"
      },
      "execution_count": null,
      "outputs": []
    },
    {
      "cell_type": "code",
      "execution_count": null,
      "metadata": {
        "id": "35YcEBjxEZ9R"
      },
      "outputs": [],
      "source": [
        "# Frequenza delle domande\n",
        "#data['Domanda utente'].value_counts()"
      ]
    },
    {
      "cell_type": "markdown",
      "metadata": {
        "id": "SkfOhUgJEZ9R"
      },
      "source": [
        "## Pandas - Calcolo della lunghezza delle frasi in caratteri"
      ]
    },
    {
      "cell_type": "code",
      "execution_count": null,
      "metadata": {
        "id": "dLgJspDoEZ9R"
      },
      "outputs": [],
      "source": [
        "\"\"\"\n",
        "Utilizzare Pandas quando:\n",
        "- Vuoi una soluzione rapida e semplice\n",
        "- La precisione linguistica non è cruciale\n",
        "- Stai solo contando caratteri\n",
        "\n",
        "Serve per individuare come gli utenti parlano: per keyword, frasi lunghe, brevi ecc.\n",
        "\"\"\"\n"
      ]
    },
    {
      "cell_type": "code",
      "execution_count": null,
      "metadata": {
        "id": "B3At3goBEZ9S"
      },
      "outputs": [],
      "source": [
        "# Distribuzione della lunghezza delle domande\n",
        "data['Domanda utente'].str.len().hist()  #calcola la lunghezza di ciascuna domanda e visualizza un istogramma"
      ]
    },
    {
      "cell_type": "code",
      "source": [
        "#filtered=data[data['Domanda utente'].str.len() >= 175]\n",
        "#filtered"
      ],
      "metadata": {
        "id": "YzxE7fU0avru"
      },
      "execution_count": null,
      "outputs": []
    },
    {
      "cell_type": "code",
      "execution_count": null,
      "metadata": {
        "id": "DcraZ0eDEZ9S"
      },
      "outputs": [],
      "source": [
        "# E' come se facessimo:\n",
        "\n",
        "lunghezze_domande = []\n",
        "for domanda in data['Domanda utente']:\n",
        "    lunghezze_domande.append(len(domanda))\n"
      ]
    },
    {
      "cell_type": "code",
      "execution_count": null,
      "metadata": {
        "id": "byrVlTM6EZ9T"
      },
      "outputs": [],
      "source": [
        "#utilizza matplotlib per visualizzare l'istogramma\n",
        "import matplotlib.pyplot as plt\n",
        "# poi crea un istogramma di lunghezze_domande\n",
        "len(lunghezze_domande)\n",
        "plt.hist(lunghezze_domande, bins=20, color='skyblue', edgecolor='black') # oppure data['Domanda utente']\n",
        "plt.title('Distribuzione lunghezza domande')\n",
        "plt.xlabel('Lunghezza domande in caratteri')\n",
        "plt.ylabel('Frequenza')\n",
        "plt.show()"
      ]
    },
    {
      "cell_type": "markdown",
      "metadata": {
        "id": "OuisBiLfEZ9T"
      },
      "source": [
        "## Tipo di atto linguistico: domande dirette, indirette, affermazioni."
      ]
    },
    {
      "cell_type": "code",
      "execution_count": null,
      "metadata": {
        "id": "bqyoxbnsEZ9T",
        "colab": {
          "base_uri": "https://localhost:8080/",
          "height": 70
        },
        "outputId": "5e25324b-72c0-416e-d89b-651ce240464a"
      },
      "outputs": [
        {
          "output_type": "execute_result",
          "data": {
            "text/plain": [
              "'\\nAtti diretti:\\n\\n\"Voglio cancellare l\\'ordine\"\\n\"Dimmi come tracciare il pacco\"\\n\\nAtti indiretti:\\n\\n\"Non sono più sicuro di aver bisogno di questo prodotto\"\\n\"Mi piacerebbe sapere come tracciare il pacco\"\\n\\n\\nDomande esplicite:\\n\\n\"Dov\\'è il mio ordine?\"\\n\"Quando arriva la spedizione?\"\\n\\n'"
            ],
            "application/vnd.google.colaboratory.intrinsic+json": {
              "type": "string"
            }
          },
          "metadata": {},
          "execution_count": 122
        }
      ],
      "source": [
        "\"\"\"\n",
        "Atti diretti:\n",
        "\n",
        "\"Voglio cancellare l'ordine\"\n",
        "\"Dimmi come tracciare il pacco\"\n",
        "\n",
        "Atti indiretti:\n",
        "\n",
        "\"Non sono più sicuro di aver bisogno di questo prodotto\"\n",
        "\"Mi piacerebbe sapere come tracciare il pacco\"\n",
        "\n",
        "\n",
        "Domande esplicite:\n",
        "\n",
        "\"Dov'è il mio ordine?\"\n",
        "\"Quando arriva la spedizione?\"\n",
        "\n",
        "\"\"\""
      ]
    },
    {
      "cell_type": "code",
      "execution_count": null,
      "metadata": {
        "id": "bWsuwLEmEZ9U"
      },
      "outputs": [],
      "source": [
        "import re\n",
        "from collections import Counter\n",
        "\n",
        "def identifica_atto_linguistico(testo):\n",
        "    testo = testo.lower()\n",
        "\n",
        "    # Pattern per diversi atti linguistici\n",
        "    patterns = {\n",
        "        'domanda_diretta': [\n",
        "            r'\\?$',\n",
        "            r'^(come|dove|quando|perché|chi|cosa|quale)',\n",
        "        ],\n",
        "        'richiesta_diretta': [\n",
        "            r'^voglio',\n",
        "            r'^devo',\n",
        "            r'^ho bisogno',\n",
        "            r'^dimmi',\n",
        "        ],\n",
        "        'richiesta_indiretta': [\n",
        "            r'^(sarebbe possibile|si potrebbe)',\n",
        "            r'^vorrei',\n",
        "            r'^mi piacerebbe',\n",
        "            r'potete',\n",
        "        ]\n",
        "    }\n",
        "    #tipo è la chiave del dizionario patterns_list è il valore\n",
        "    #for tipo, pattern_list in patterns.items():\n",
        "    for key, value in patterns.items():\n",
        "        if any(re.search(p, testo) for p in value):\n",
        "            return key\n",
        "\n",
        "    return 'altro'\n",
        "\n"
      ]
    },
    {
      "cell_type": "code",
      "execution_count": null,
      "metadata": {
        "id": "Mk9Fu5Q0EZ9U",
        "colab": {
          "base_uri": "https://localhost:8080/"
        },
        "outputId": "62560543-9370-4890-90d0-c77e3307615e"
      },
      "outputs": [
        {
          "output_type": "stream",
          "name": "stdout",
          "text": [
            "\n",
            "Testo: Dove trovo i miei punti?\n",
            "Atto linguistico: domanda_diretta\n",
            "\n",
            "Testo: Voglio cancellare l'ordine\n",
            "Atto linguistico: richiesta_diretta\n",
            "\n",
            "Testo: Sarebbe possibile avere un reso?\n",
            "Atto linguistico: domanda_diretta\n",
            "\n",
            "Testo: Mi piacerebbe sapere il tracking\n",
            "Atto linguistico: richiesta_indiretta\n",
            "\n",
            "Testo: Ho bisogno di cambiare indirizzo\n",
            "Atto linguistico: richiesta_diretta\n"
          ]
        }
      ],
      "source": [
        "#codice client\n",
        "# Esempi\n",
        "esempi = [\n",
        "    \"Dove trovo i miei punti?\",              # domanda_diretta\n",
        "    \"Voglio cancellare l'ordine\",            # richiesta_diretta\n",
        "    \"Sarebbe possibile avere un reso?\",      # richiesta_indiretta\n",
        "    \"Mi piacerebbe sapere il tracking\",      # richiesta_indiretta\n",
        "    \"Ho bisogno di cambiare indirizzo\"       # richiesta_diretta\n",
        "]\n",
        "\n",
        "for e in esempi:\n",
        "    print(f\"\\nTesto: {e}\")\n",
        "    print(f\"Atto linguistico: {identifica_atto_linguistico(e)}\")"
      ]
    },
    {
      "cell_type": "code",
      "execution_count": null,
      "metadata": {
        "id": "ZqjyE7qTEZ9V",
        "colab": {
          "base_uri": "https://localhost:8080/"
        },
        "outputId": "5b28e97f-e612-4f4b-c454-584acd033d66"
      },
      "outputs": [
        {
          "output_type": "stream",
          "name": "stdout",
          "text": [
            "\n",
            "Testo: Ho bisogno di cambiare indirizzo\n",
            "Atto linguistico: domanda_diretta\n",
            "\n",
            "Testo: Ho bisogno di cambiare indirizzo\n",
            "Atto linguistico: altro\n",
            "\n",
            "Testo: Ho bisogno di cambiare indirizzo\n",
            "Atto linguistico: altro\n",
            "\n",
            "Testo: Ho bisogno di cambiare indirizzo\n",
            "Atto linguistico: domanda_diretta\n",
            "\n",
            "Testo: Ho bisogno di cambiare indirizzo\n",
            "Atto linguistico: domanda_diretta\n",
            "\n",
            "Testo: Ho bisogno di cambiare indirizzo\n",
            "Atto linguistico: altro\n",
            "\n",
            "Testo: Ho bisogno di cambiare indirizzo\n",
            "Atto linguistico: domanda_diretta\n",
            "\n",
            "Testo: Ho bisogno di cambiare indirizzo\n",
            "Atto linguistico: altro\n",
            "\n",
            "Testo: Ho bisogno di cambiare indirizzo\n",
            "Atto linguistico: altro\n",
            "\n",
            "Testo: Ho bisogno di cambiare indirizzo\n",
            "Atto linguistico: domanda_diretta\n"
          ]
        }
      ],
      "source": [
        "#ciclo sulle mie domande\n",
        "for d in data['Domanda utente'][:10]:\n",
        "    print(f\"\\nTesto: {e}\")\n",
        "    print(f\"Atto linguistico: {identifica_atto_linguistico(d)}\")\n"
      ]
    },
    {
      "cell_type": "code",
      "execution_count": null,
      "metadata": {
        "id": "yqSZxUocEZ9W"
      },
      "outputs": [],
      "source": [
        "def analizza_distribuzione_atti_linguistici(testi):\n",
        "    # Raccoglie tutti gli atti linguistici\n",
        "    atti = [identifica_atto_linguistico(testo) for testo in testi]\n",
        "\n",
        "    # Conta le occorrenze\n",
        "    conteggio = Counter(atti)\n",
        "\n",
        "    # Calcola le percentuali\n",
        "    totale = len(atti)\n",
        "    percentuali = {\n",
        "        atto: {\n",
        "            'count': count,\n",
        "            'percentuale': f\"{(count/totale)*100:.1f}%\"\n",
        "        }\n",
        "        for atto, count in conteggio.items()\n",
        "        #for item in conteggio.items():\n",
        "        #atto = item[0]   # primo elemento della coppia (chiave)\n",
        "        #count = item[1]  # secondo elemento della coppia (valore)\n",
        "    }\n",
        "\n",
        "    return percentuali"
      ]
    },
    {
      "cell_type": "code",
      "execution_count": null,
      "metadata": {
        "id": "OBkh8GTuEZ9W",
        "colab": {
          "base_uri": "https://localhost:8080/"
        },
        "outputId": "7931844a-f4b3-4414-8bab-18ed856af719"
      },
      "outputs": [
        {
          "output_type": "stream",
          "name": "stdout",
          "text": [
            "\n",
            "Distribuzione degli atti linguistici:\n",
            "\n",
            "domanda_diretta:\n",
            "Conteggio: 42\n",
            "Percentuale: 40.8%\n",
            "\n",
            "altro:\n",
            "Conteggio: 50\n",
            "Percentuale: 48.5%\n",
            "\n",
            "richiesta_diretta:\n",
            "Conteggio: 5\n",
            "Percentuale: 4.9%\n",
            "\n",
            "richiesta_indiretta:\n",
            "Conteggio: 6\n",
            "Percentuale: 5.8%\n"
          ]
        }
      ],
      "source": [
        "risultati = analizza_distribuzione_atti_linguistici(data['Domanda utente']) #esempi\n",
        "\n",
        "print(\"\\nDistribuzione degli atti linguistici:\")\n",
        "for atto, stats in risultati.items():\n",
        "    print(f\"\\n{atto}:\")\n",
        "    print(f\"Conteggio: {stats['count']}\")\n",
        "    print(f\"Percentuale: {stats['percentuale']}\")"
      ]
    },
    {
      "cell_type": "markdown",
      "metadata": {
        "id": "NLplG32AEZ9W"
      },
      "source": [
        "## NLTK"
      ]
    },
    {
      "cell_type": "code",
      "execution_count": null,
      "metadata": {
        "id": "J3-09IegEZ9X"
      },
      "outputs": [],
      "source": [
        "# Distribuzione delle parole\n",
        "\"\"\"\n",
        "Da utilizzare quando:\n",
        "- Hai bisogno di un'analisi linguistica accurata\n",
        "- Devi gestire testi complessi\n",
        "- Ti servono analisi linguistiche più avanzate\n",
        "\"\"\""
      ]
    },
    {
      "cell_type": "code",
      "execution_count": null,
      "metadata": {
        "id": "v_OMy7h_EZ9X"
      },
      "outputs": [],
      "source": [
        "import nltk\n",
        "from nltk.tokenize import word_tokenize\n",
        "from nltk.corpus import stopwords\n",
        "from nltk.probability import FreqDist\n",
        "from collections import defaultdict\n",
        "import string\n"
      ]
    },
    {
      "cell_type": "code",
      "execution_count": null,
      "metadata": {
        "id": "x133_9hBEZ9Y"
      },
      "outputs": [],
      "source": [
        "#È un modello pre-addestrato per la tokenizzazione del testo. Serve per dividere correttamente il testo in frasi e parole: essenziale per funzioni come sent_tokenize() e word_tokenize(). Sa gestire abbreviazioni, punteggiatura e altri casi particolari\n",
        "nltk.download('punkt')\n",
        "nltk.download('punkt-tab')\n",
        "#Scarica un elenco di \"stopwords\" (parole funzionali come \"il\", \"la\", \"e\", \"che\", ecc.). Le stopwords sono parole molto comuni che spesso vengono rimosse nell'analisi del testo\n",
        "nltk.download('stopwords')\n",
        "#Scarica un modello per il Part-of-Speech tagging (POS tagging). Serve per identificare la funzione grammaticale delle parole (nome, verbo, aggettivo, ecc.)\n",
        "nltk.download('averaged_perceptron_tagger')\n",
        "nltk.download('averaged_perceptron_tagger-eng')\n"
      ]
    },
    {
      "cell_type": "code",
      "execution_count": null,
      "metadata": {
        "id": "YPKeW1kmEZ9Y"
      },
      "outputs": [],
      "source": [
        "#leggo il file usando Gestore di Contesto. Gestisce automaticamente le risorse del sistema e si occupa di chiudere il file anche se il codice genera errore\n",
        "source_file='/content/chatbot_csv.csv'\n",
        "try:\n",
        "    with open(source_file, 'r', encoding='ISO-8859-1') as f:\n",
        "        lines = f.read().splitlines()\n",
        "except FileNotFoundError:\n",
        "    print(f\"Il file {source_file} non esiste\")\n",
        "except PermissionError:\n",
        "    print(f\"Non hai i permessi per accedere al file {source_file}\")\n",
        "except Exception as e:\n",
        "    print(f\"Si è verificato un errore: {str(e)}\")\n"
      ]
    },
    {
      "cell_type": "code",
      "execution_count": null,
      "metadata": {
        "id": "pWJ1f9Y0EZ9Y"
      },
      "outputs": [],
      "source": [
        "#salvo le domande in una lista\n",
        "domande=[]\n",
        "for line in lines:\n",
        "    domande.append(line.split(';')[1])"
      ]
    },
    {
      "cell_type": "code",
      "execution_count": null,
      "metadata": {
        "id": "X_4Jiw7rEZ9Z",
        "outputId": "3676f558-c27a-4d41-cb1b-de4848ebb1cd",
        "colab": {
          "base_uri": "https://localhost:8080/"
        }
      },
      "outputs": [
        {
          "output_type": "stream",
          "name": "stdout",
          "text": [
            "Numero di righe (comprese righe null o stringhe vuote) 113\n"
          ]
        }
      ],
      "source": [
        "print(f\"Numero di righe (comprese righe null o stringhe vuote) {len(domande)}\")\n",
        "#print(type(domande))\n",
        "#print(domande[:10])"
      ]
    },
    {
      "cell_type": "code",
      "execution_count": null,
      "metadata": {
        "id": "RfETxrL9EZ9Z"
      },
      "outputs": [],
      "source": [
        "#elimino le righe vuote con list comprehension, caratteristica di Python per creare nuove liste basate su sequenze o iterabili esistenti.\n",
        "# espressione per elemento in iterabile + condizione\n",
        "domande_finali=[]\n",
        "domande_finali = [line for line in domande if line and line != 'Domanda utente']\n",
        "\n",
        "print(f\"Numero di righe  dopo aver filtrato le righe con testo diverso da stringa vuota) {len(domande_finali)}\")"
      ]
    },
    {
      "cell_type": "code",
      "execution_count": null,
      "metadata": {
        "id": "xa2W5TXnEZ9Z"
      },
      "outputs": [],
      "source": [
        "domande_finali[0]"
      ]
    },
    {
      "cell_type": "markdown",
      "metadata": {
        "id": "oitaCPmDEZ9a"
      },
      "source": [
        "## NLTK pipeline"
      ]
    },
    {
      "cell_type": "code",
      "execution_count": null,
      "metadata": {
        "id": "JDTYyl1SEZ9b"
      },
      "outputs": [],
      "source": [
        "# tokenizzazione\n",
        "# stop words removal\n",
        "# POS tagging\n",
        "# lemmatizzazione"
      ]
    },
    {
      "cell_type": "code",
      "execution_count": null,
      "metadata": {
        "id": "aElSFATjEZ9c"
      },
      "outputs": [],
      "source": [
        "#tokenizzazione- word\n",
        "import nltk\n",
        "from nltk.tokenize import sent_tokenize, word_tokenize\n",
        "\n",
        "# Download the 'punkt_tab' resource\n",
        "nltk.download('punkt_tab')\n",
        "\n",
        "testo = \"Vorrei sapere...Come tracciare il mio ordine?\"\n",
        "lista_token = word_tokenize(testo)\n",
        "print(lista_token)"
      ]
    },
    {
      "cell_type": "code",
      "source": [
        "def tokenizza_frase(testo):\n",
        "    return word_tokenize(testo)"
      ],
      "metadata": {
        "id": "qiiEUjwc_poj"
      },
      "execution_count": null,
      "outputs": []
    },
    {
      "cell_type": "code",
      "source": [
        "for d in domande_finali[:10]:\n",
        "    print(f\"\\nTesto: {d}\")\n",
        "    print(f\"Tokenizzazione: {tokenizza_frase(d)}\")"
      ],
      "metadata": {
        "id": "hvfXTNL5_wYa"
      },
      "execution_count": null,
      "outputs": []
    },
    {
      "cell_type": "code",
      "source": [
        "##tokenizzazione- frase\n",
        "frase=\"Buongiorno. Sono qui per un appuntamento con la dottoressa Rossi. Sono già una sua paziente.\"\n",
        "frase_token = sent_tokenize(frase)\n",
        "print(frase_token)"
      ],
      "metadata": {
        "id": "tLWi4RuK9Plg"
      },
      "execution_count": null,
      "outputs": []
    },
    {
      "cell_type": "markdown",
      "metadata": {
        "id": "h11l12InEZ9e"
      },
      "source": [
        "## Preprocessing del testo- Cosa sono le stopword"
      ]
    },
    {
      "cell_type": "code",
      "execution_count": null,
      "metadata": {
        "id": "uMoDqVvKEZ9f"
      },
      "outputs": [],
      "source": [
        "# parole più comuni in una lingua che normalmente non aggiungono significato all'analisi del testo. Pensiamo a parole come \"il\", \"la\", \"e\", \"che\", \"di\", \"in\", ecc.\n",
        "# Come fare per rimuovere le stopwords?\n",
        "stop_words = set(stopwords.words('italian'))\n",
        "stop_words #Le stopwords sono fornite in minuscolo, quindi è buona pratica convertire il testo in minuscolo prima di fare analisi del testo"
      ]
    },
    {
      "cell_type": "code",
      "execution_count": null,
      "metadata": {
        "id": "FmAopabEEZ9c",
        "outputId": "dedd1b5d-b052-4a6b-e91f-3dd721c1806a",
        "colab": {
          "base_uri": "https://localhost:8080/"
        }
      },
      "outputs": [
        {
          "output_type": "stream",
          "name": "stdout",
          "text": [
            "['Vorrei', 'sapere', '...', 'tracciare', 'ordine', '?']\n"
          ]
        }
      ],
      "source": [
        "#rimuovo le stopwords\n",
        "stopwords_ita    = stopwords.words('italian') #importo le stopwords in italiano\n",
        "filtered = [w for w in lista_token if w.lower() not in stopwords_ita]\n",
        "print(filtered)"
      ]
    },
    {
      "cell_type": "code",
      "execution_count": null,
      "metadata": {
        "id": "BRi9hvcXEZ9c",
        "outputId": "ed598bac-02c8-4668-f6b9-554de2f76ef5",
        "colab": {
          "base_uri": "https://localhost:8080/"
        }
      },
      "outputs": [
        {
          "output_type": "stream",
          "name": "stdout",
          "text": [
            "[('inserire', 'NN'), ('buono', 'NN'), ('sconto', 'VBD'), ('5\\x80', 'CD'), ('volevo', 'NNS'), ('acquistare', 'JJ'), ('prada', 'JJ'), ('edt', 'NN'), ('figlio', 'NN'), ('pagarlo', 'NN'), ('tre', 'NN'), ('rate', 'NN'), ('salve', 'NN'), ('effettuato', 'NN'), ('ordine', 'NN'), ('verrà', 'NN'), ('spedito', 'NN'), ('signora', 'NN'), ('maria', 'NN'), ('rossi', 'NN'), ('vorrei', 'NN'), ('pagamento', 'IN'), ('venisse', 'NN'), ('effettuato', 'NN'), ('medesima', 'NN'), ('punti', 'NN'), ('scadenza', 'NN'), ('?', '.'), ('?', '.'), ('?', '.'), ('?', '.'), (\"un'app\", 'NN'), ('?', '.'), ('effettuo', 'CC'), ('pagamento', 'IN'), ('cosa', 'JJ'), ('succede', 'NN'), ('svuota', 'NN'), ('carrello', 'NN'), ('?', '.'), ('salve', 'VB'), ('momento', 'NN'), ('sceglie', 'NN'), ('pagamento', 'IN'), ('rateale', 'NN'), ('?', '.'), ('ordine', 'JJ'), ('risulta', 'NN'), ('annullato', 'NN'), ('stata', 'NN'), ('inviata', 'NN'), ('nessuna', 'NN'), ('notifica', 'NN'), ('cambiare', 'NN'), ('metodo', 'NN'), ('pagamento', 'NN'), ('fattura', 'NN'), ('?', '.'), ('buon', 'NN'), ('pomeriggio', 'NN'), (',', ','), (\"nell'imballo\", 'JJ'), ('presente', 'NN'), ('scontrino', 'NN'), (',', ','), ('posso', 'NN'), ('scaricarlo', 'NN'), ('?', '.'), ('grazie', 'JJ'), ('gratis', 'NN'), ('importo', 'NN'), ('superiore', 'VBD'), ('50', 'CD'), ('euro', 'NN'), ('(', '('), ('pagamento', 'IN'), ('consegna', 'NN'), (')', ')'), ('buonasera', 'NN'), (',', ','), ('devo', 'NN'), ('procedere', 'RB'), ('ordine', 'JJ'), (',', ','), ('regalo', 'NN'), (',', ','), ('potete', 'NN'), ('togliere', 'RB'), ('ogni', 'RB'), ('riferimento', 'VB'), ('prezzo', 'NN'), ('?', '.'), ('potete', 'JJ'), ('incartarlo', 'NN'), ('?', '.'), ('possibile', 'JJ'), ('spedire', 'NN'), ('pacco', 'NN'), ('indirizzo', 'NN'), ('diverso', 'NN'), ('fatturazione', 'NN'), ('?', '.'), ('può', 'NN'), ('fare', 'NN'), ('spedizione', 'NN'), ('express', 'NN'), ('allora', 'NN'), ('....', 'NNP'), ('fatto', 'VBZ'), ('ordine', 'NN'), ('.', '.'), ('inavvertitamente', 'NN'), ('inserito', 'NN'), ('pagamento', 'NN'), (\"'\", 'POS'), ('paypal', 'NN'), ('.', '.'), ('ce', 'NN'), (\"'\", \"''\"), ('vorrei', 'NNS'), ('pagare', 'VBP'), ('carta', 'JJ'), ('credito', 'NN'), ('nn', 'NN'), ('fa', 'NN'), ('tornare', 'NN'), ('indietro', 'NN'), ('.', '.'), ('?', '.'), ('trovo', 'JJ'), ('fidelity', 'NN'), ('aggiornata', 'NN'), ('trovo', 'NN'), ('conteggiati', 'NN'), ('punti', 'NN'), (\"dell'ordine\", 'NN'), ('appen6fatto', 'NN'), ('salve', 'VBP'), ('posso', 'NN'), ('aggiungere', 'RB'), ('altro', 'JJ'), ('prodotto', 'NN'), ('ordine', 'NN'), ('fatto', 'NN'), ('ieri', 'NN'), ('sera', 'NN'), ('?', '.'), ('buona', 'NN'), ('sera', 'NN'), (',', ','), ('fare', 'NN'), ('acquisto', 'JJ'), ('spedirlo', 'NN'), ('direttamente', 'NN'), ('regalo', 'NN'), ('.', '.'), (\"'\", \"''\"), ('possibile', 'JJ'), ('iderire', 'NN'), (\"all'interno\", 'NN'), ('confezione', 'NN'), ('scontrino', 'NN'), ('riceverlo', 'NN'), ('solo', 'NN'), ('elettronicamente', 'NN'), ('?', '.'), ('possibile', 'JJ'), ('consegna', 'NN'), ('veloce', 'NN'), ('?', '.'), ('gentilmente', 'JJ'), ('vorrei', 'NN'), ('sapere', 'RB'), ('oltre', 'JJ'), ('prodotto', 'NN'), ('inviate', 'NN'), ('carta', 'NN'), ('negozio/mandate', 'NN'), ('carta', 'NN'), ('regalo', 'NN'), ('offerte', 'NN'), ('attuali', 'NN'), ('fino', 'NN'), ('quando', 'NN'), ('valide', 'IN'), ('volevo', 'NN'), ('sapere', 'RB'), ('stati', 'JJ'), ('cambiamenti', 'NN'), ('fragranza', 'NN'), ('buongiorno', 'NN'), (',', ','), ('punti', 'VBP'), ('fidelity', 'NN'), ('2020', 'CD'), ('stati', 'NN'), ('azzerati', 'NN'), ('?', '.'), ('gentilissimi', 'NN'), (',', ','), ('mai', 'FW'), ('punti', 'FW'), ('fidelity', 'NN'), ('card', 'NN'), ('?', '.'), ('cambio', 'NN'), ('metodo', 'NN'), ('pagamento', 'IN'), ('devo', 'NN'), ('cambiare', 'NN'), ('metodo', 'NN'), ('pagamento', 'IN'), ('sbagliato', 'NN'), ('inserire', 'NN'), ('metodo', 'NN'), ('pagamento', 'NN'), ('zero', 'NN'), ('punti', 'NN'), ('nonostante', 'JJ'), ('fatto', 'NNS'), ('due', 'JJ'), ('acquisti', 'RB'), ('?', '.'), ('vorrei', 'NN'), ('cancellare', 'NN'), ('carrello', 'NN'), ('salve', 'VBP'), ('vorrei', 'NN'), ('sapere', 'RB'), ('fare', 'JJ'), ('recuperare', 'JJ'), ('bonus', 'NN'), ('acquistato', 'NN'), ('2020', 'CD'), ('preparata', 'NN'), ('catalogo', 'NN'), ('profumi', 'NN'), ('.', '.'), ('imparando', 'JJ'), ('velocità', 'NN'), ('luce', 'NN'), ('.', '.'), ('cliccato', 'NN'), ('bonifico', 'NN'), ('bancario', 'NN'), (',', ','), ('dovevo', 'NN'), ('scegliere', 'RB'), ('opzione', 'RB'), ('2', 'CD'), ('modificarlo', 'NN'), ('codice', 'NN'), ('winter', 'NN'), ('?', '.'), ('quali', 'JJ'), ('marchi', 'NN'), ('esclusi', 'NN'), ('?', '.'), ('fatto', 'JJ'), ('scorso', 'NN'), ('anno', 'NN'), ('acquisto', 'NN'), ('stati', 'NN'), ('accreditati', 'VBZ'), ('buoni', 'JJ'), ('eseguito', 'JJ'), ('ordine', 'NN'), ('77384/2021ma', 'CD'), ('accorta', 'NN'), ('aver', 'NN'), ('pagato', 'VBP'), ('qual', 'JJ'), ('é', 'NNP'), ('vs.', 'FW'), ('indirizzo', 'NN'), ('paypal', 'NN'), ('procedere', 'RB'), ('all´acquisto', 'RB'), ('?', '.'), ('buingiorno', 'NN'), ('profumi', 'NN'), ('arrivano', 'NN'), ('pellicola', 'NN'), ('?', '.'), ('hi', 'NN'), ('do', 'VBP'), ('u', 'RB'), ('deliver', 'VB'), ('to', 'TO'), ('ireland', 'VB'), ('?', '.'), ('appena', 'JJ'), ('fatto', 'NN'), ('ordine', 'NN'), (',', ','), ('sbagliato', 'NN'), ('modalità', 'NN'), ('pagamento', 'NN'), ('salve', 'NN'), (',', ','), ('gia', 'NN'), ('effettuato', 'NN'), ('acquisto', 'NN'), ('vedo', 'NN'), ('punti', 'NN'), ('fidelity', 'NN'), ('card', 'NN'), ('buonasera', 'NN'), (',', ','), ('posso', 'NN'), ('usare', 'NN'), ('sconto', 'JJ'), ('codice', 'NN'), ('promo', 'NN'), ('prodotti', 'NN'), ('scontati', 'NN'), ('?', '.'), ('fatto', 'JJ'), ('già', 'NN'), ('alcuni', 'JJ'), ('acquisti', 'NN'), ('vedo', 'NN'), ('punti', 'NN'), ('fidelity', 'NN'), ('card', 'NN'), ('cosa', 'NN'), ('devo', 'NN'), ('fare', 'NN'), ('?', '.'), ('buongiorno', 'NN'), (',', ','), ('credo', 'JJ'), ('ordine', 'NN'), ('attivato', 'NN'), ('coupons', 'NNS'), ('sconto', 'VBP'), ('sconto', 'JJ'), ('10', 'CD'), ('%', 'NN'), ('andato', 'NN'), ('buon', 'NN'), ('fine', 'NN'), (',', ','), ('?', '.'), ('posso', 'NN'), ('pagare', 'NN'), ('postepay', 'NN'), ('?', '.'), ('what', 'WP'), (\"'s\", 'VBZ'), ('app', 'JJ'), ('lasciare', 'NN'), ('valutazione', 'NN'), ('servizio', 'NN'), (\"'\", \"''\"), ('qualche', 'NN'), ('codice', 'NN'), ('promo', 'NN'), ('prodotti', 'NN'), ('già', 'NN'), ('offerta', 'NN'), ('?', '.'), ('acquisti', 'JJ'), ('salve', 'NN'), ('appena', 'NN'), ('concluso', 'NN'), ('ordine', 'NN'), ('dimenticato', 'NN'), ('inserire', 'NN'), ('codice', 'NN'), ('sconto', 'VBD'), ('cone', 'NN'), ('posso', 'NN'), ('modificare', 'NN'), (\"l'ordine\", 'JJ'), ('aggiungendo', 'NN'), ('altro', 'NN'), ('profumo', 'NN'), ('devo', 'NN'), ('modificare', 'NN'), ('pagamento', 'IN'), ('punti', 'NN'), ('?', '.'), ('devo', 'NN'), ('inserire', 'NN'), ('codice', 'NN'), ('sconto', 'NN'), ('?', '.'), ('appena', 'JJ'), ('fatto', 'NN'), ('ordine', 'NN'), ('vorrei', 'NN'), ('aggiungere', 'RB'), ('altre', 'RB'), ('cose', 'JJ'), ('posso', 'NNS'), ('fare', 'NN'), ('buongiorno', 'NN'), (',', ','), ('cliente', 'NN'), ('.', '.'), ('volevo', 'NN'), ('sapere', 'RB'), ('caso', 'JJ'), ('presente', 'NN'), ('servizio', 'NN'), ('testare', 'NN'), ('alcuni', 'JJ'), ('campioni', 'NN'), ('fragranze', 'NN'), ('catalogo', 'NN'), ('(', '('), ('pagamento', 'IN'), ('ovviamente', 'NN'), (')', ')'), ('.', '.'), ('grazie', 'JJ'), ('codice', 'NN'), ('promo10', 'NN'), ('quali', 'NN'), ('prodotti', 'NN'), ('applica', 'NN'), ('?', '.'), ('verificato', 'NN'), ('funziona', 'NN'), ('salve', 'VBP'), ('fatto', 'NN'), ('già', 'NN'), ('acquisto', 'NN'), ('nn', 'NNS'), ('so', 'RB'), ('accumulando', 'JJ'), ('punti', 'NN'), ('ciao', 'NN'), (',', ','), ('vorrei', 'FW'), ('cancellare', 'NN'), ('ordine', 'JJ'), ('fase', 'NN'), ('lavorazione', 'NN'), ('devo', 'NN'), ('aggiungere', 'RB'), ('altro', 'JJ'), ('prodotto', 'NN'), ('punti', 'NN'), ('vecchi', 'NN'), ('sn', 'NN'), ('persi', 'NN'), ('salve', 'NN'), (',', ','), ('vorrei', 'FW'), ('acquistare', 'NN'), ('profumo', 'NN'), ('penhaligons', 'NNS'), (',', ','), ('dato', 'NN'), ('conosco', 'NN'), ('fragranze', 'NN'), (',', ','), ('possibile', 'NN'), ('ricevere', 'RB'), ('campioncini', 'JJ'), ('poter', 'NN'), ('scegliere', 'EX'), ('fragranza', 'RB'), ('?', '.'), ('attesa', 'JJ'), ('risposta', 'NN'), (',', ','), ('porgo', 'NN'), ('cordiali', 'NN'), ('saluti', 'NN'), ('.', '.'), ('punti', 'JJ'), ('carta', 'NN'), ('perchè', 'NN'), ('punti', 'NN'), ('fideity', 'NN'), ('card', 'NN'), ('?', '.'), ('fatto', '$'), ('2', 'CD'), ('acquisti', 'NN'), ('voglio', 'NN'), ('cambiare', 'NN'), ('metodo', 'NN'), ('pagamento', 'NN'), ('modificare', 'NN'), ('modalità', 'NN'), ('pagamento', 'IN'), ('ordine', 'JJ'), ('attesa', 'NN'), ('accumulato', 'NN'), ('punti', 'NN'), ('ordini', 'NN'), ('effettuati', 'NN'), ('?', '.'), ('salve', 'VB'), ('fatto', 'NN'), ('acquisto', 'NN'), ('messo', 'NN'), ('spedizione', 'NN'), ('altro', 'NN'), ('indirizzo', 'NN'), (',', ','), ('però', 'JJ'), (\"nell'ordine\", 'NN'), ('indirizzo', 'NN'), ('spedizione', 'NN'), ('residenza', 'NN'), ('salve', 'VBP'), ('compro', 'JJ'), ('bel', 'NN'), ('po', 'NN'), ('solo', 'NN'), ('nn', 'NN'), ('so', 'RB'), ('arrivare', 'JJ'), ('raccolta', 'NN'), ('punti', 'NN'), ('carta', 'NN'), ('fedeltà', 'NN'), ('acme', 'NN'), ('spa', 'NN'), ('permette', 'NN'), ('accumulare', 'NN'), ('punti', 'JJ'), ('ogni', 'NN'), ('acquisto', 'NN'), ('superiore', 'VBD'), ('5\\x80', 'CD'), ('.', '.'), ('viene', 'NN'), ('accumulato', 'NN'), ('punto', 'NN'), ('ogni', 'VBD'), ('5\\x80', 'CD'), ('spesa', 'NN'), ('.', '.'), ('attraverso', 'NN'), ('punti', 'NN'), (',', ','), ('raggiungimento', 'VB'), ('diverse', 'JJ'), ('soglie', 'NN'), (',', ','), ('possibile', 'NN'), ('richiedere', 'RB'), ('buoni', 'VBZ'), ('sconto', 'NN'), ('spendere', 'JJ'), (\"all'interno\", 'NN'), ('sito', 'NN'), ('web', 'NN'), ('possibile', 'NN'), ('richiedere', 'WRB'), ('campioncino', 'NN'), ('profumo', 'NN'), ('particolare', 'NN'), ('?', '.'), ('richiesta', 'NN'), ('collaborazione', 'NN'), ('piacerebbe', 'NN'), ('sponsorizzare', 'NN'), ('prodotti', 'JJ'), ('influencer', 'NN'), ('buongiorno', 'NN'), ('spese', 'JJ'), ('superiori', 'VBD'), ('200', 'CD'), ('euro', 'JJ'), ('altro', 'JJ'), ('codice', 'NN'), ('sconto', 'NN'), (\"'\", 'POS'), ('ossibile', 'JJ'), ('profumo', 'NN'), ('paradiso', 'NN'), ('cavalli', 'NN'), ('oltre', 'VBD'), ('56', 'CD'), ('%', 'NN'), ('sconto', 'NN'), (',', ','), ('oggi', 'RB'), ('15', 'CD'), ('%', 'NN'), ('inserendo', 'NN'), ('codice', 'NN'), ('?', '.'), ('buongiorno', 'NN'), ('arrivati', 'IN'), ('prodotti', 'NNS'), ('ringrazio', 'VBP'), ('volevo', 'NN'), ('scrivere', 'RB'), ('recensione', 'VBZ'), ('riesco', 'NN'), ('capire', 'NN'), ('confermare', 'NN'), ('vuol', 'NN'), ('dire', 'NN'), ('?', '.'), ('salve', 'VB'), ('gentilmente', 'NN'), ('carello', 'NN'), ('vedo', 'NN'), ('l\\x92omaggio', 'NN'), ('c\\x92era', 'NN'), ('scritto', 'NN'), ('profumo', 'NN'), ('tommy', 'JJ'), ('hilfiger', 'NN'), ('impact', 'NN'), ('edp', 'JJ'), ('intense', 'JJ'), ('profumo', 'NN'), ('tommy', 'NN'), ('hilfiger', 'NN'), ('l\\x92omaggio', 'NN'), ('carello', 'NN'), ('nn', 'JJ'), ('vedo', 'NN'), ('fa', 'NN'), ('reso', 'NN'), ('?', '.'), ('ordine', 'JJ'), ('può', 'NN'), ('avere', 'RB'), ('pagamento', 'VBZ'), ('3', 'CD'), ('rate', 'NN'), ('?', '.'), ('conferma', 'NN'), ('?', '.'), ('posto', 'NN'), ('paypal', 'JJ'), ('voglio', 'NN'), ('pagare', 'NN'), ('carta', 'NN'), ('credito', 'NN'), ('devo', 'NN'), ('modificare', 'NN'), ('ordine', 'NN'), ('cambiare', 'NN'), ('modalità', 'NN'), ('pagamento', 'IN'), ('scelto', 'NN'), ('?', '.'), ('quando', 'JJ'), ('potrò', 'NN'), ('avere', 'RB'), ('maggiori', 'VBZ'), ('dettagli', 'NN'), ('?', '.'), ('posso', 'NN'), ('recuperare', 'NN'), ('password', 'NN'), ('account', 'NN'), ('voglio', 'NN'), ('poter', 'NN'), ('tracciare', 'NN'), ('pacco', 'NN'), ('vorrei', 'NN'), ('fare', 'NN'), ('buono/carta', 'NN'), ('regalo', 'NN'), ('.', '.'), ('devo', 'NN'), ('procedere', 'RB'), ('?', '.'), ('funziona', 'JJ'), ('magic', 'JJ'), ('payment', 'NN'), ('armani', 'NN'), ('promo', 'NN'), ('?', '.'), ('devo', 'NN'), ('cambiare', 'NN'), ('l\\x92indirizzo', 'JJ'), ('stati', 'NN'), ('accreditati', 'NN'), ('punti', 'NN'), ('fatto', 'NN'), ('primo', 'NN'), ('acquisto', 'NN'), ('stata', 'NN'), ('attivata', 'NN'), ('fate', 'NN'), ('fattura', 'NN'), ('commerciale', 'NN'), ('aziende', 'NN'), ('?', '.'), ('iscrizione', 'NN'), ('newsletter', 'NN'), ('posso', 'NN'), ('usufruire', 'NN'), ('sconto', 'VBD'), ('15', 'CD'), ('%', 'NN'), ('?', '.'), ('campioncini', 'NN'), ('angelo', 'NN'), ('carioli', 'NN'), ('?', '.'), ('scandal', 'NN'), ('paris', 'VBZ'), ('30', 'CD'), ('ml', 'NN'), ('già', 'NN'), ('scontato', 'NN'), ('oppure', 'NN'), ('41,61\\x80', 'CD'), ('prezzo', 'NN'), ('listino', 'NN'), ('?', '.'), ('vorrei', 'NN'), ('bulgari', 'NN'), ('giallo', 'NN'), ('omnia', 'NN'), ('vorrei', 'NN'), ('acquistare', 'NN'), ('roma', 'NN'), ('uomo', 'JJ'), ('biagiotti', 'NN'), ('125', 'CD'), ('ml', 'NN'), (',', ','), ('magic', 'RB'), ('check', 'VB'), ('out', 'RP'), ('posso', 'NN'), ('pagare', 'NN'), ('solo', 'NN'), ('carta', 'NN'), ('credito', 'NN'), ('magic', 'NN'), ('checkout', 'NN'), ('aromatcs', 'NN'), ('elisir', 'VBD'), ('100', 'CD'), ('ml', 'NN'), ('arriverà', 'NN'), ('entro', 'NN'), ('giugno', 'NN'), ('?', '.'), ('originale', 'NN'), ('?', '.'), ('vorrei', 'NN'), ('sapere', 'RB'), ('speso', 'JJ'), ('profumo', 'NN'), ('comprato', 'NN'), ('sabato', 'NN'), ('..', 'NNP'), ('pagamento', 'NN'), ('veloce', 'NN'), ('dovevano', 'NN'), ('essere', 'RB'), ('79', 'CD'), ('euro', 'JJ'), ('..', 'NNP'), ('sembra', 'NN'), ('capire', 'NN'), ('pagato', 'NN'), ('89', 'CD'), ('mascherine', 'NN'), ('monouso', 'NN'), ('50', 'CD'), ('pezzi', 'NN'), ('imbustate', 'NN'), ('singolarmente', 'NN'), ('posso', 'NN'), ('pagare', 'NN'), ('satispay', 'NN'), ('?', '.'), ('8giorni', 'CD'), ('spedisce', 'NN'), ('buongiorno', 'NN'), ('.', '.'), ('volevo', 'NN'), ('cortesemente', 'NN'), ('sapere', 'RB'), (',', ','), ('acquistando', 'JJ'), ('bvlgari', 'NN'), ('omnua', 'NN'), ('bymary', 'JJ'), ('katrantzou', 'NN'), (',', ','), ('possibile', 'NN'), ('ricevere', 'RB'), ('miniatura', 'VBZ'), ('omaggio', 'JJ'), ('5', 'CD'), ('ml', 'NN'), ('stesso', 'NN'), ('profumo', 'NN'), ('.', '.'), ('cordiali', 'NN'), ('saluti', 'NN'), (',', ','), ('luigi', 'NN'), ('.', '.'), ('3', 'CD'), ('gg', 'JJ'), ('cerco', 'NN'), ('fare', 'NN'), ('ordine', 'NN'), ('...', ':'), ('sito', 'JJ'), ('quando', 'NN'), ('arrivo', 'NN'), ('pagamento', 'IN'), ('va', 'NN'), ('errore', 'NN'), ('vorrei', 'NN'), ('cambiare', 'NN'), ('modalità', 'NN'), ('cambiamento', 'NN')]\n"
          ]
        },
        {
          "output_type": "stream",
          "name": "stderr",
          "text": [
            "[nltk_data] Downloading package averaged_perceptron_tagger to\n",
            "[nltk_data]     /root/nltk_data...\n",
            "[nltk_data]   Package averaged_perceptron_tagger is already up-to-\n",
            "[nltk_data]       date!\n"
          ]
        }
      ],
      "source": [
        "#POS tagging\n",
        "nltk.download('averaged_perceptron_tagger')\n",
        "from nltk import pos_tag\n",
        "\n",
        "tagged = pos_tag(filtered)\n",
        "print(tagged)"
      ]
    },
    {
      "cell_type": "markdown",
      "metadata": {
        "id": "YMNhQaNiEZ9d"
      },
      "source": []
    },
    {
      "cell_type": "markdown",
      "metadata": {
        "id": "47z-K7onEZ9d"
      },
      "source": [
        "## NLTK- Estrazione di topic"
      ]
    },
    {
      "cell_type": "code",
      "execution_count": null,
      "metadata": {
        "id": "kyTYTrI0EZ9f"
      },
      "outputs": [],
      "source": [
        "# Versione semplice\n",
        "def estrai_topic_simple(testi, num_parole=5):\n",
        "    \"\"\"\n",
        "    Estrae i topic principali da una lista di testi analizzando\n",
        "    le parole più frequenti, escludendo le stopwords\n",
        "    \"\"\"\n",
        "    # Preparazione stopwords e punteggiatura\n",
        "    stop_words = set(stopwords.words('italian'))\n",
        "    stop_words.update(string.punctuation)\n",
        "\n",
        "    # Tokenizzazione e pulizia\n",
        "    parole_totali = []\n",
        "    for testo in testi:\n",
        "        # Converte in minuscolo e tokenizza\n",
        "        tokens = word_tokenize(testo.lower())\n",
        "\n",
        "        # Rimuove stopwords e punteggiatura\n",
        "        tokens_puliti = [\n",
        "            parola for parola in tokens\n",
        "            if parola not in stop_words and len(parola) > 2\n",
        "        ]\n",
        "\n",
        "        parole_totali.extend(tokens_puliti)\n",
        "\n",
        "    # Calcola la frequenza delle parole\n",
        "    freq_dist = FreqDist(parole_totali)\n",
        "\n",
        "    # Trova le parole più comuni\n",
        "    parole_comuni = freq_dist.most_common(num_parole)\n",
        "\n",
        "\n",
        "\n",
        "    return {\n",
        "        'parole_frequenti': parole_comuni\n",
        "\n",
        "    }\n"
      ]
    },
    {
      "cell_type": "code",
      "execution_count": null,
      "metadata": {
        "id": "Oifvu0RwEZ9e",
        "outputId": "2ff7cb81-58b8-4bc3-ff34-8ca65a432262",
        "colab": {
          "base_uri": "https://localhost:8080/"
        }
      },
      "outputs": [
        {
          "output_type": "stream",
          "name": "stdout",
          "text": [
            "[('di', 30), ('un', 29), ('il', 29), ('ho', 22), ('non', 21), ('pagamento', 16), ('punti', 15), ('come', 14), ('ma', 13), ('per', 12), ('che', 12), ('con', 12), ('i', 12), ('sono', 12), ('ordine', 11), ('la', 11), ('è', 11), ('fatto', 11), ('vorrei', 10), ('mi', 10), ('a', 10), ('in', 9), ('Salve', 9), ('da', 9), ('mio', 8), ('e', 8), ('posso', 8), ('sconto', 7), ('si', 7), ('devo', 7)]\n"
          ]
        }
      ],
      "source": [
        "# estrazione delle parole più comuni\n",
        "# Per farlo, unisci tutte le domande in un unico testo\n",
        "testo_completo = ' '.join(domande_finali)\n",
        "tokens=word_tokenize(testo_completo)\n",
        "#print(tokens[:10]) #visualizzo le prime 10 parole\n",
        "fd = FreqDist(testo_completo.split())\n",
        "print(fd.most_common(30)) #visualizzo stopwords come il di in ecc.\n"
      ]
    },
    {
      "cell_type": "code",
      "execution_count": null,
      "metadata": {
        "id": "yM84JvfkEZ9e",
        "outputId": "32653b72-1091-4658-ef00-55063995239b",
        "colab": {
          "base_uri": "https://localhost:8080/",
          "height": 532
        }
      },
      "outputs": [
        {
          "output_type": "execute_result",
          "data": {
            "text/plain": [
              "<Axes: xlabel='Samples', ylabel='Counts'>"
            ]
          },
          "metadata": {},
          "execution_count": 98
        },
        {
          "output_type": "display_data",
          "data": {
            "text/plain": [
              "<Figure size 640x480 with 1 Axes>"
            ],
            "image/png": "[encoded data removed]"
          },
          "metadata": {}
        }
      ],
      "source": [
        "fd.plot(30)"
      ]
    },
    {
      "cell_type": "markdown",
      "metadata": {
        "id": "SvJK7GiaEZ9g"
      },
      "source": [
        "## NLTK- Analizza testi"
      ]
    },
    {
      "cell_type": "code",
      "execution_count": null,
      "metadata": {
        "id": "Xi-3N0A-EZ9g"
      },
      "outputs": [],
      "source": [
        "def analizza_testi(testi):\n",
        "    \"\"\"\n",
        "    Analizza una lista di testi ed estrae informazioni utili\n",
        "    \"\"\"\n",
        "    # Estrai i topic\n",
        "    risultati = estrai_topic_simple(testi)\n",
        "    #risultati = estrai_topic_simple(testi, 20)\n",
        "    # Stampa i risultati in formato leggibile\n",
        "    \"\"\"\n",
        "    print(\"\\nParole più frequenti:\")\n",
        "    for parola, freq in risultati['parole_frequenti']:\n",
        "        print(f\"- '{parola}' (frequenza: {freq})\")\n",
        "        print(\"  Esempi di contesto:\")\n",
        "        for contesto in risultati['contesti'].get(parola, []):\n",
        "            print(f\"  * ...{contesto}...\")\n",
        "        print()\n",
        "    \"\"\"\n",
        "    print(f\"Ecco le parole frequenti:\")\n",
        "\n",
        "    return risultati"
      ]
    },
    {
      "cell_type": "markdown",
      "metadata": {
        "id": "4IjCdM-CEZ9h"
      },
      "source": [
        "## Codice client"
      ]
    },
    {
      "cell_type": "code",
      "execution_count": null,
      "metadata": {
        "id": "5PhJAp9hEZ9h",
        "outputId": "8def0a52-ae31-42f1-a915-60f8f96bdd8e",
        "colab": {
          "base_uri": "https://localhost:8080/"
        }
      },
      "outputs": [
        {
          "output_type": "stream",
          "name": "stdout",
          "text": [
            "Analisi dei testi di esempio:\n",
            "Ecco le parole frequenti:\n",
            "{'parole_frequenti': [('pagamento', 18), ('punti', 17), ('ordine', 15), ('vorrei', 13), ('salve', 11)]}\n"
          ]
        }
      ],
      "source": [
        "#Identificare percorsi problematici (es: utenti che fanno molte domande sullo stesso tema)\n",
        "print(\"Analisi dei testi di esempio:\")\n",
        "risultati=analizza_testi(domande_finali)\n",
        "# print(risultati.get('contesti'))\n",
        "print(risultati)"
      ]
    },
    {
      "cell_type": "code",
      "execution_count": null,
      "metadata": {
        "id": "TUUV_ZxWEZ9i",
        "outputId": "18c1ffa3-0775-4f72-fbae-42d8afcdd2d4",
        "colab": {
          "base_uri": "https://localhost:8080/",
          "height": 406
        }
      },
      "outputs": [
        {
          "output_type": "display_data",
          "data": {
            "text/plain": [
              "<Figure size 640x480 with 1 Axes>"
            ],
            "image/png": "[encoded data removed]"
          },
          "metadata": {}
        }
      ],
      "source": [
        "chiavi = [item[0] for item in risultati['parole_frequenti']]\n",
        "valori = [item[1] for item in risultati['parole_frequenti']]\n",
        "\n",
        "#plt.bar(chiavi, valori, color=\"skyblue\")\n",
        "plt.pie(valori, labels=chiavi, autopct='%1.1f%%')\n",
        "plt.show()"
      ]
    },
    {
      "cell_type": "code",
      "execution_count": null,
      "metadata": {
        "id": "wef1MdzrEZ9i"
      },
      "outputs": [],
      "source": [
        "# Automatic topic discovery script\n",
        "# TF-IDF (Term Frequency-Inverse Document Frequency) è una misura statistica che valuta l'importanza di una parola in un documento rispetto a una collezione di documenti"
      ]
    },
    {
      "cell_type": "code",
      "execution_count": null,
      "metadata": {
        "id": "BaxxOOC5EZ9j",
        "outputId": "b9cecc7a-79d6-4d79-d0be-2ab2f414f5e8"
      },
      "outputs": [
        {
          "name": "stdout",
          "output_type": "stream",
          "text": [
            "Requirement already satisfied: scikit-learn in c:\\users\\userpc\\documents\\progetti personali\\python\\lezione2\\.lezione2\\lib\\site-packages (1.6.1)\n",
            "Requirement already satisfied: numpy>=1.19.5 in c:\\users\\userpc\\documents\\progetti personali\\python\\lezione2\\.lezione2\\lib\\site-packages (from scikit-learn) (2.2.1)\n",
            "Requirement already satisfied: scipy>=1.6.0 in c:\\users\\userpc\\documents\\progetti personali\\python\\lezione2\\.lezione2\\lib\\site-packages (from scikit-learn) (1.15.1)\n",
            "Requirement already satisfied: joblib>=1.2.0 in c:\\users\\userpc\\documents\\progetti personali\\python\\lezione2\\.lezione2\\lib\\site-packages (from scikit-learn) (1.4.2)\n",
            "Requirement already satisfied: threadpoolctl>=3.1.0 in c:\\users\\userpc\\documents\\progetti personali\\python\\lezione2\\.lezione2\\lib\\site-packages (from scikit-learn) (3.5.0)\n",
            "Note: you may need to restart the kernel to use updated packages.\n"
          ]
        },
        {
          "name": "stderr",
          "output_type": "stream",
          "text": [
            "\n",
            "[notice] A new release of pip available: 22.3.1 -> 24.3.1\n",
            "[notice] To update, run: python.exe -m pip install --upgrade pip\n"
          ]
        }
      ],
      "source": [
        "%pip install scikit-learn"
      ]
    },
    {
      "cell_type": "code",
      "execution_count": null,
      "metadata": {
        "id": "pklKErN6EZ9j"
      },
      "outputs": [],
      "source": [
        "import pandas as pd\n",
        "from sklearn.feature_extraction.text import TfidfVectorizer\n",
        "from sklearn.cluster import KMeans\n",
        "from collections import Counter\n",
        "import numpy as np\n",
        "\n",
        "def scopri_argomenti(file_path, colonna_testo, n_clusters=5, parole_per_cluster=10):\n",
        "    \"\"\"\n",
        "    Scopre automaticamente gli argomenti principali in un dataset testuale\n",
        "\n",
        "    Parameters:\n",
        "    file_path (str): Percorso del file CSV\n",
        "    colonna_testo (str): Nome della colonna contenente i testi\n",
        "    n_clusters (int): Numero di cluster/argomenti da trovare\n",
        "    parole_per_cluster (int): Numero di parole caratteristiche per ogni cluster\n",
        "    \"\"\"\n",
        "    # Leggi il file\n",
        "    print(f\"Leggendo il file {file_path}...\")\n",
        "    try:\n",
        "    # il valore di ritorno è un DataFrame\n",
        "\n",
        "        df = pd.read_csv(\n",
        "              file_path,\n",
        "              sep=';', # default è ','\n",
        "              encoding='ISO-8859-1', # default è 'utf-8'. ISO-8859-1 è il formato di codifica dei caratteri per lingue europee e anche caratteri speciali e accenti\n",
        "              on_bad_lines='skip' # in caso di errori di parsing, ad es. virgolette non chiuse, salta quella riga\n",
        "              )\n",
        "    except pd.errors.ParserError as e:\n",
        "        print(f\"Error reading CSV: {e}\")\n",
        "        #cattura gli errori di codifica dei caratteri (prova a modificare l'encoding ad esempio utf-8)\n",
        "    except UnicodeDecodeError as e:\n",
        "        print(f\"Encoding error: {e}\")\n",
        "        #file non trovato\n",
        "    except FileNotFoundError:\n",
        "            print(\"File not found at specified path\")\n",
        "            #cattura qualsiasi altro tipo di errore che non rientra nei casi precedenti.\n",
        "    except Exception as e:\n",
        "            print(f\"Other error: {type(e).__name__}: {str(e)}\")\n",
        "\n",
        "    testi = df[colonna_testo].dropna().tolist()\n",
        "\n",
        "    stop_words_italian = stopwords.words('italian')\n",
        "    # Converti i testi in una matrice TF-IDF\n",
        "    print(\"Analizzando i testi...\")\n",
        "    vectorizer = TfidfVectorizer(\n",
        "        max_features=1000,  # Limita il vocabolario alle 1000 parole più frequenti\n",
        "        stop_words=stop_words_italian,\n",
        "        min_df=2  # Ignora parole che appaiono in un solo documento\n",
        "    )\n",
        "\n",
        "    X = vectorizer.fit_transform(testi)\n",
        "\n",
        "    # Applica il clustering\n",
        "    print(f\"Identificando {n_clusters} argomenti principali...\")\n",
        "    kmeans = KMeans(n_clusters=n_clusters, random_state=42)\n",
        "    cluster_labels = kmeans.fit_predict(X)\n",
        "\n",
        "    # Trova le parole caratteristiche per ogni cluster\n",
        "    feature_names = vectorizer.get_feature_names_out()\n",
        "\n",
        "    # Analisi dei cluster\n",
        "    print(\"\\nARGOMENTI IDENTIFICATI:\")\n",
        "    print(\"=\" * 50)\n",
        "\n",
        "    for i in range(n_clusters):\n",
        "        # Trova i documenti in questo cluster\n",
        "        docs_in_cluster = [doc for doc, label in zip(testi, cluster_labels) if label == i]\n",
        "        n_docs = len(docs_in_cluster)\n",
        "\n",
        "        # Trova le parole più caratteristiche del cluster\n",
        "        centroide = kmeans.cluster_centers_[i]\n",
        "        top_indices = centroide.argsort()[::-1][:parole_per_cluster]\n",
        "        top_words = [feature_names[idx] for idx in top_indices]\n",
        "\n",
        "        # Calcola la lunghezza media dei documenti nel cluster\n",
        "        avg_length = np.mean([len(doc.split()) for doc in docs_in_cluster])\n",
        "\n",
        "        print(f\"\\nArgomento {i+1} ({n_docs} documenti):\")\n",
        "        print(f\"Parole chiave: {', '.join(top_words)}\")\n",
        "        print(f\"Lunghezza media documenti: {avg_length:.0f} parole\")\n",
        "\n",
        "        # Mostra un esempio di testo da questo cluster (il più corto per leggibilità)\n",
        "        if docs_in_cluster:\n",
        "            esempio = min(docs_in_cluster, key=len)\n",
        "            if len(esempio) > 100:\n",
        "                esempio = esempio[:100] + \"...\"\n",
        "            print(f\"Esempio di testo: \\\"{esempio}\\\"\")\n",
        "\n",
        "    # Statistiche generali\n",
        "    print(\"\\nSTATISTICHE GENERALI:\")\n",
        "    print(\"=\" * 50)\n",
        "    print(f\"Totale documenti analizzati: {len(testi)}\")\n",
        "    print(f\"Distribuzione documenti per argomento:\")\n",
        "    conteggio = Counter(cluster_labels)\n",
        "    for cluster, count in sorted(conteggio.items()):\n",
        "        percentuale = (count / len(testi)) * 100\n",
        "        print(f\"Argomento {cluster+1}: {count} documenti ({percentuale:.1f}%)\")\n",
        "\n"
      ]
    },
    {
      "cell_type": "code",
      "execution_count": null,
      "metadata": {
        "id": "TdYJw5_tEZ9k"
      },
      "outputs": [],
      "source": [
        "# codice client:\n",
        "\n",
        "scopri_argomenti(source_file, \"Domanda utente\", n_clusters=5)"
      ]
    },
    {
      "cell_type": "markdown",
      "metadata": {
        "id": "kc_ylB2YEZ9k"
      },
      "source": [
        "## NLTK-Sentiment Analysis"
      ]
    },
    {
      "cell_type": "code",
      "execution_count": null,
      "metadata": {
        "id": "dRJL_nfcEZ9l"
      },
      "outputs": [],
      "source": [
        "%pip install textblob"
      ]
    },
    {
      "cell_type": "code",
      "execution_count": null,
      "metadata": {
        "id": "mjo9twzkEZ9l"
      },
      "outputs": [],
      "source": [
        "%pip install seaborn"
      ]
    },
    {
      "cell_type": "code",
      "execution_count": null,
      "metadata": {
        "id": "BroTcUU0EZ9m"
      },
      "outputs": [],
      "source": [
        "# Sentiment Analysis con textblob per testi in inglese\n",
        "\n",
        "from textblob import TextBlob\n",
        "import seaborn as sns"
      ]
    },
    {
      "cell_type": "code",
      "execution_count": null,
      "metadata": {
        "id": "sNeS2zL4EZ9n"
      },
      "outputs": [],
      "source": [
        "# Definiamo le nostre funzioni di base\n",
        "def analizza_sentimento(testo):\n",
        "    analisi = TextBlob(testo)\n",
        "    return analisi.sentiment.polarity\n",
        "\n",
        "def classifica_sentimento(score):\n",
        "    if score > 0.1:\n",
        "        return 'Positivo'\n",
        "    elif score < -0.1:\n",
        "        return 'Negativo'\n",
        "    else:\n",
        "        return 'Neutro'\n"
      ]
    },
    {
      "cell_type": "code",
      "execution_count": null,
      "metadata": {
        "id": "WES6T3DsEZ9n"
      },
      "outputs": [],
      "source": [
        "#codice client\n",
        "recensioni= [\n",
        "    \"The food was awful, I will never come back\",\n",
        "    \"The pizza was average, nothing special\",\n",
        "    \"Excellent service, very kind waiters\",\n",
        "    \"Prices too high for what they offer\"\n",
        "]\n",
        "\n",
        "# Creiamo un DataFrame con i risultati\n",
        "risultati = {\n",
        "    'Recensione': recensioni,\n",
        "    'Score': [analizza_sentimento(rec) for rec in recensioni],\n",
        "}\n",
        "\n",
        "df = pd.DataFrame(risultati)\n",
        "df['Sentiment'] = df['Score'].apply(classifica_sentimento)\n",
        "\n",
        "# Visualizziamo i risultati\n",
        "print(\"\\nAnalisi multiple recensioni:\")\n",
        "print(df)"
      ]
    },
    {
      "cell_type": "markdown",
      "metadata": {
        "id": "0fQg_lOnEZ9n"
      },
      "source": [
        "## Sentiment analysis in italiano"
      ]
    },
    {
      "cell_type": "code",
      "execution_count": null,
      "metadata": {
        "id": "CbNOnryDEZ9o"
      },
      "outputs": [],
      "source": [
        "%pip install feel-it"
      ]
    },
    {
      "cell_type": "code",
      "execution_count": null,
      "metadata": {
        "id": "Y1YCIJweEZ9o"
      },
      "outputs": [],
      "source": [
        "domande_finali[:10]"
      ]
    },
    {
      "cell_type": "code",
      "execution_count": null,
      "metadata": {
        "id": "ag4XF596EZ9p"
      },
      "outputs": [],
      "source": [
        "from feel_it import EmotionClassifier, SentimentClassifier\n",
        "\n",
        "# Inizializziamo i classificatori\n",
        "sentiment_classifier = SentimentClassifier()\n",
        "\n",
        "# Le nostre recensioni in italiano\n",
        "\n",
        "recensioni = [\n",
        "    \"Il cibo faceva schifo, non tornerò mai più\",\n",
        "    \"La pizza era nella media, niente di speciale\",\n",
        "    \"Ottimo servizio, camerieri molto gentili\",\n",
        "    \"Prezzi troppo alti per quello che offrono\"\n",
        "]\n",
        "\n",
        "# Analisi del sentimento\n",
        "sentimenti = sentiment_classifier.predict(recensioni)\n",
        "\n",
        "# Visualizziamo i risultati\n",
        "for recensione, sentimento in zip(recensioni, sentimenti): #domande_finali\n",
        "    print(f\"\\nRecensione: {recensione}\")\n",
        "    print(f\"Sentiment: {sentimento}\")"
      ]
    },
    {
      "cell_type": "markdown",
      "metadata": {
        "id": "_SVDkCApEZ9p"
      },
      "source": [
        "## Classificazione di intent"
      ]
    },
    {
      "cell_type": "code",
      "execution_count": null,
      "metadata": {
        "id": "D0dg81KyEZ9p"
      },
      "outputs": [],
      "source": [
        "def classifica_intento(testo):\n",
        "    # Dizionario di parole chiave per ogni intento\n",
        "    intenti = {\n",
        "        'spedizione': ['spedizione', 'spedire', 'consegna', 'express', 'pacco', 'indirizzo'],\n",
        "        'pagamento': ['pagamento', 'pagare', 'carta', 'paypal', 'bonifico', 'rate', 'postepay'],\n",
        "        'punti_fedelta': ['punti', 'fidelity', 'card', 'raccolta'],\n",
        "        'ordine': ['ordine', 'acquisto', 'carrello'],\n",
        "        'sconto': ['sconto', 'codice', 'coupon', 'promo'],\n",
        "        'prodotto': ['profumo', 'fragranza', 'prodotto', 'campione', 'campioncino']\n",
        "    }\n",
        "\n",
        "    # Converte il testo in minuscolo per il matching\n",
        "    testo = testo.lower()\n",
        "\n",
        "    # Conta le occorrenze di parole chiave per ogni intento\n",
        "    matches = {}\n",
        "    for intento, keywords in intenti.items():\n",
        "        count = sum(1 for keyword in keywords if keyword in testo)\n",
        "        matches[intento] = count\n",
        "\n",
        "    # Ritorna l'intento con più matches\n",
        "    if max(matches.values()) > 0:\n",
        "        return max(matches.items(), key=lambda x: x[1])[0]\n",
        "    return 'altro'  # default se nessun match trovato\n"
      ]
    },
    {
      "cell_type": "code",
      "execution_count": null,
      "metadata": {
        "id": "ik4WxHz1EZ9p"
      },
      "outputs": [],
      "source": [
        "#codice client\n",
        "# Test con alcune domande\n",
        "domande_test = [\n",
        "    \"Come posso tracciare la mia spedizione?\",\n",
        "    \"Vorrei pagare con PayPal, è possibile?\",\n",
        "    \"Non vedo i miei punti sulla fidelity card\",\n",
        "    \"Come si cancella un ordine?\",\n",
        "    \"Dove inserisco il codice sconto?\",\n",
        "    \"Avete dei campioncini di profumo?\",\n",
        "    \"Qual è il vostro numero di telefono?\" , # questo dovrebbe essere 'altro'\n",
        "    \"Quando siete aperti?\"\n",
        "]\n",
        "\n",
        "# Testiamo la classificazione\n",
        "for domanda in domande_test:\n",
        "    intento = classifica_intento(domanda)\n",
        "    print(f\"\\nDomanda: {domanda}\")\n",
        "    print(f\"Intento rilevato: {intento}\")\n",
        "\n",
        "# Analizziamo un dataset reale\n",
        "recensioni = pd.DataFrame({\n",
        "    'testo': domande_test,\n",
        "    'intento_classificato': [classifica_intento(d) for d in domande_test]\n",
        "})\n",
        "\n",
        "print(\"\\n=== Distribuzione degli intenti ===\")\n",
        "print(recensioni['intento_classificato'].value_counts())\n"
      ]
    },
    {
      "cell_type": "markdown",
      "metadata": {
        "id": "5dnNH-kxEZ9q"
      },
      "source": [
        "## Come conosco gli intent non classificati"
      ]
    },
    {
      "cell_type": "code",
      "execution_count": null,
      "metadata": {
        "id": "vOE78Q7yEZ9q"
      },
      "outputs": [],
      "source": [
        "#visualizzo le righe che appartengono a intent classificato come altro\n",
        "recensioni[recensioni['intento_classificato'] ==\"altro\"]"
      ]
    },
    {
      "cell_type": "markdown",
      "metadata": {
        "id": "lLb9lessEZ9q"
      },
      "source": [
        "## Identificare pattern di comunicazione ricorrenti"
      ]
    },
    {
      "cell_type": "code",
      "execution_count": null,
      "metadata": {
        "id": "0d1Q84TDEZ9r"
      },
      "outputs": [],
      "source": [
        "\"\"\"\n",
        "Ad esempio puoi conoscere\n",
        "- Se dopo una domanda sul pagamento spesso seguono domande sulla spedizione\n",
        "- Se problemi con i punti fedeltà portano a domande sugli sconti\n",
        "- Quali sono le sequenze di domande più tipiche\n",
        "\"\"\""
      ]
    },
    {
      "cell_type": "code",
      "execution_count": null,
      "metadata": {
        "id": "nD-LOc6DEZ9r"
      },
      "outputs": [],
      "source": [
        "def analizza_pattern_conversazioni(conversazioni, window_size=2):\n",
        "    # Prima classifichiamo gli intenti di tutte le conversazioni\n",
        "    sequenze_intenti = []\n",
        "\n",
        "    for conv in conversazioni:\n",
        "        intento = classifica_intento(conv)\n",
        "        sequenze_intenti.append(intento)\n",
        "\n",
        "    # Troviamo pattern di sequenze (es: domande che spesso vengono fatte in sequenza)\n",
        "    patterns = []\n",
        "    for i in range(len(sequenze_intenti) - window_size + 1):\n",
        "        pattern = tuple(sequenze_intenti[i:i+window_size])\n",
        "        patterns.append(pattern)\n",
        "\n",
        "    # Contiamo i pattern più frequenti\n",
        "    pattern_freq = Counter(patterns)\n",
        "\n",
        "    return pattern_freq.most_common(5)\n",
        "\n"
      ]
    },
    {
      "cell_type": "code",
      "execution_count": null,
      "metadata": {
        "id": "J7uo37TVEZ9r",
        "outputId": "4c993bf9-247f-4001-def4-ba89bf3f2d79"
      },
      "outputs": [
        {
          "name": "stdout",
          "output_type": "stream",
          "text": [
            "Pattern più comuni nelle conversazioni:\n",
            "\n",
            "Sequenza: spedizione -> sconto\n",
            "Frequenza: 2\n",
            "\n",
            "Sequenza: pagamento -> ordine\n",
            "Frequenza: 1\n",
            "\n",
            "Sequenza: ordine -> spedizione\n",
            "Frequenza: 1\n",
            "\n",
            "Sequenza: spedizione -> punti_fedelta\n",
            "Frequenza: 1\n",
            "\n",
            "Sequenza: punti_fedelta -> spedizione\n",
            "Frequenza: 1\n"
          ]
        }
      ],
      "source": [
        "#codice client\n",
        "# Esempio di conversazioni in sequenza temporale\n",
        "conversazioni_esempio = [\n",
        "    \"Come si paga con PayPal?\",                    # pagamento\n",
        "    \"Non vedo l'ordine confermato\",               # ordine\n",
        "    \"Quando arriva la spedizione?\",               # spedizione\n",
        "    \"Ho dei punti sulla tessera?\",                # punti_fedelta\n",
        "    \"Posso modificare l'indirizzo di consegna?\",  # spedizione\n",
        "    \"Non funziona il codice sconto\",              # sconto\n",
        "    \"Come traccio il pacco?\",                     # spedizione\n",
        "    \"Dove inserisco il codice promo?\",            # sconto\n",
        "]\n",
        "\n",
        "# Analizziamo i pattern\n",
        "pattern_comuni = analizza_pattern_conversazioni(conversazioni_esempio)\n",
        "\n",
        "print(\"Pattern più comuni nelle conversazioni:\")\n",
        "for pattern, freq in pattern_comuni:\n",
        "    print(f\"\\nSequenza: {' -> '.join(pattern)}\")\n",
        "    print(f\"Frequenza: {freq}\")"
      ]
    },
    {
      "cell_type": "code",
      "execution_count": null,
      "metadata": {
        "id": "kuZEf7oxEZ9s"
      },
      "outputs": [],
      "source": [
        "from itertools import combinations\n",
        "\n",
        "def analizza_pattern_senza_ordine(conversazioni, window_size=2):\n",
        "    # Classifichiamo gli intenti\n",
        "    intenti = [classifica_intento(conv) for conv in conversazioni]\n",
        "\n",
        "    # Troviamo combinazioni di intenti (ignorando l'ordine)\n",
        "    patterns = []\n",
        "    for i in range(len(intenti) - window_size + 1):\n",
        "        # Usando combinations invece di sequenze ordinate\n",
        "        pattern = frozenset(intenti[i:i+window_size])\n",
        "        patterns.append(pattern)\n",
        "\n",
        "    # Contiamo le combinazioni più frequenti\n",
        "    pattern_freq = Counter(patterns)\n",
        "\n",
        "    return pattern_freq.most_common(5)\n",
        "\n"
      ]
    },
    {
      "cell_type": "code",
      "execution_count": null,
      "metadata": {
        "id": "0Nlb1MRkEZ9s",
        "outputId": "dd9b481b-f1c8-4f9a-dc4f-dd1be99ae4fc"
      },
      "outputs": [
        {
          "name": "stdout",
          "output_type": "stream",
          "text": [
            "Combinazioni di intenti più comuni:\n",
            "\n",
            "Intenti correlati: pagamento & ordine\n",
            "Frequenza: 2\n",
            "\n",
            "Intenti correlati: ordine & spedizione\n",
            "Frequenza: 1\n",
            "\n",
            "Intenti correlati: pagamento & spedizione\n",
            "Frequenza: 1\n"
          ]
        }
      ],
      "source": [
        "# Esempio di uso\n",
        "conversazioni_esempio = [\n",
        "    \"Come si paga con PayPal?\",                    # pagamento\n",
        "    \"Non vedo l'ordine confermato\",               # ordine\n",
        "    \"Quando arriva la spedizione?\",               # spedizione\n",
        "    \"Non funziona il pagamento\",                  # pagamento\n",
        "    \"Dov'è il mio ordine?\"                        # ordine\n",
        "]\n",
        "\n",
        "# Analizziamo i pattern\n",
        "pattern_comuni = analizza_pattern_senza_ordine(conversazioni_esempio)\n",
        "\n",
        "print(\"Combinazioni di intenti più comuni:\")\n",
        "for pattern, freq in pattern_comuni:\n",
        "    print(f\"\\nIntenti correlati: {' & '.join(pattern)}\")\n",
        "    print(f\"Frequenza: {freq}\")"
      ]
    },
    {
      "cell_type": "markdown",
      "metadata": {
        "id": "Kr7E8oGKEZ9s"
      },
      "source": [
        "## Identificare urgenza"
      ]
    },
    {
      "cell_type": "code",
      "execution_count": null,
      "metadata": {
        "id": "VVjsAtQhEZ9s"
      },
      "outputs": [],
      "source": [
        "def analizza_urgenza(testo):\n",
        "    # Parole chiave che indicano diversi livelli di urgenza\n",
        "    patterns = {\n",
        "        'alta': [\n",
        "            'bloccato', 'errore', 'non funziona', 'urgente',\n",
        "            'problema', 'annullato', 'subito', 'immediatamente',\n",
        "            'perdita', 'impossibile'\n",
        "        ],\n",
        "        'media': [\n",
        "            'modificare', 'cambiare', 'sbagliato', 'non riesco',\n",
        "            'aiuto', 'non capisco', 'non trovo'\n",
        "        ],\n",
        "        'bassa': [\n",
        "            'vorrei', 'come', 'informazioni', 'possibile',\n",
        "            'quando', 'dove', 'sapere'\n",
        "        ]\n",
        "    }\n",
        "\n",
        "    testo = testo.lower()\n",
        "\n",
        "    # Controlla le parole chiave per ogni livello\n",
        "    for livello, keywords in patterns.items():\n",
        "        if any(word in testo for word in keywords):\n",
        "            return livello\n",
        "\n",
        "    return 'bassa'  # default\n",
        "\n"
      ]
    },
    {
      "cell_type": "code",
      "execution_count": null,
      "metadata": {
        "id": "X9wp1czoEZ9t"
      },
      "outputs": [],
      "source": [
        "# Test per verifica urgenza\n",
        "esempi = [\n",
        "    \"Il mio ordine è bloccato da 3 giorni\",          # alta\n",
        "    \"Non riesco a completare il pagamento\",          # media\n",
        "    \"Vorrei sapere quando arriva il pacco\",          # bassa\n",
        "    \"C'è un errore nel sistema di pagamento\",        # alta\n",
        "    \"Come posso vedere i miei punti?\"                # bassa\n",
        "]\n",
        "\n",
        "for testo in esempi:\n",
        "    urgenza = analizza_urgenza(testo)\n",
        "    print(f\"\\nTesto: {testo}\")\n",
        "    print(f\"Livello di urgenza: {urgenza}\")"
      ]
    },
    {
      "cell_type": "markdown",
      "metadata": {
        "id": "4pA3_yxfEZ9t"
      },
      "source": [
        "## Estrarre entità"
      ]
    },
    {
      "cell_type": "code",
      "execution_count": null,
      "metadata": {
        "id": "wtRW2PanEZ9t"
      },
      "outputs": [],
      "source": [
        "import re\n",
        "\n",
        "def estrai_entita(testo):\n",
        "    entita = {\n",
        "        'numeri_ordine': [],\n",
        "        'prodotti': [],\n",
        "        'metodi_pagamento': [],\n",
        "        'date': []\n",
        "    }\n",
        "\n",
        "    # Pattern per le diverse entità\n",
        "    patterns = {\n",
        "        'numeri_ordine': [\n",
        "            r'ordine\\s+#?\\d+',\n",
        "            r'#\\d+',\n",
        "            r'ID:?\\s*\\d+',\n",
        "            r'[1-9]{5}/202[0-9]{1}'\n",
        "        ],\n",
        "        'metodi_pagamento': [\n",
        "            r'paypal',\n",
        "            r'carta di credito',\n",
        "            r'bonifico',\n",
        "            r'postepay',\n",
        "            r'satispay'\n",
        "        ],\n",
        "        'date': [\n",
        "            r'\\d{1,2}[-/]\\d{1,2}[-/]\\d{2,4}',\n",
        "            r'\\d{1,2}\\s+(gennaio|febbraio|marzo|aprile|maggio|giugno|luglio|agosto|settembre|ottobre|novembre|dicembre)\\s+\\d{4}'\n",
        "        ],\n",
        "        'prodotti': [\n",
        "            r'profumo\\s+\\w+',\n",
        "            r'fragranza\\s+\\w+',\n",
        "            r'crema\\s+\\w+'\n",
        "        ]\n",
        "    }\n",
        "\n",
        "    testo = testo.lower()\n",
        "\n",
        "    # Estrae le entità usando i pattern\n",
        "    for tipo, pattern_list in patterns.items():\n",
        "        for pattern in pattern_list:\n",
        "            matches = re.findall(pattern, testo)\n",
        "            if matches:\n",
        "                entita[tipo].extend(matches)\n",
        "\n",
        "    return entita\n",
        "\n"
      ]
    },
    {
      "cell_type": "code",
      "execution_count": null,
      "metadata": {
        "id": "tpIBpIj5EZ9u",
        "outputId": "39eee5bd-2cd9-4b3a-fe5d-18d09217c4df"
      },
      "outputs": [
        {
          "name": "stdout",
          "output_type": "stream",
          "text": [
            "\n",
            "Testo: Ho un problema con l'ordine #12345\n",
            "Entità trovate:\n",
            "numeri_ordine: ['ordine #12345', '#12345']\n",
            "\n",
            "Testo: Vorrei pagare con PayPal l'ordine del 15/01/2024\n",
            "Entità trovate:\n",
            "metodi_pagamento: ['paypal']\n",
            "date: ['15/01/2024']\n",
            "\n",
            "Testo: Non riesco a comprare il profumo Chanel con la carta di credito\n",
            "Entità trovate:\n",
            "prodotti: ['profumo chanel']\n",
            "metodi_pagamento: ['carta di credito']\n",
            "\n",
            "Testo: L'ordine ID:789 non è ancora arrivato\n",
            "Entità trovate:\n",
            "\n",
            "Testo: Ho eseguito un ordine 77384/2021ma mi sono accorta di non aver pagato qual é il vs. indirizzo Paypal per procedere all´acquisto?\n",
            "Entità trovate:\n",
            "numeri_ordine: ['ordine 77384', '77384/2021']\n",
            "metodi_pagamento: ['paypal']\n"
          ]
        }
      ],
      "source": [
        "# Test\n",
        "esempi = [\n",
        "    \"Ho un problema con l'ordine #12345\",\n",
        "    \"Vorrei pagare con PayPal l'ordine del 15/01/2024\",\n",
        "    \"Non riesco a comprare il profumo Chanel con la carta di credito\",\n",
        "    \"L'ordine ID:789 non è ancora arrivato\",\n",
        "    \"Ho eseguito un ordine 77384/2021ma mi sono accorta di non aver pagato qual é il vs. indirizzo Paypal per procedere all´acquisto?\"\n",
        "]\n",
        "\n",
        "for testo in esempi:\n",
        "    entita = estrai_entita(testo)\n",
        "    print(f\"\\nTesto: {testo}\")\n",
        "    print(\"Entità trovate:\")\n",
        "    for tipo, valori in entita.items():\n",
        "        if valori:  # mostra solo se sono state trovate entità\n",
        "            print(f\"{tipo}: {valori}\")"
      ]
    },
    {
      "cell_type": "code",
      "execution_count": null,
      "metadata": {
        "id": "TZLx_ZBYEZ9u"
      },
      "outputs": [],
      "source": [
        "#analisi completa\n",
        "def analisi_completa(testo):\n",
        "    return {\n",
        "        'testo': testo,\n",
        "        'urgenza': analizza_urgenza(testo),\n",
        "        'entita': estrai_entita(testo),\n",
        "        'atto_linguistico': identifica_atto_linguistico(testo)\n",
        "    }\n",
        "\n"
      ]
    },
    {
      "cell_type": "code",
      "execution_count": null,
      "metadata": {
        "id": "zBh5bM7JEZ9u",
        "outputId": "d0046412-82c1-49eb-ad27-eb43de85e7b5"
      },
      "outputs": [
        {
          "name": "stdout",
          "output_type": "stream",
          "text": [
            "\n",
            "Analisi completa:\n",
            "\n",
            "testo:\n",
            "Ho urgentemente bisogno di modificare il pagamento PayPal dell'ordine #45678 del 15/01/2024\n",
            "\n",
            "urgenza:\n",
            "alta\n",
            "\n",
            "entita:\n",
            "{'numeri_ordine': ['ordine #45678', '#45678'], 'prodotti': [], 'metodi_pagamento': ['paypal'], 'date': ['15/01/2024']}\n",
            "\n",
            "atto_linguistico:\n",
            "altro\n"
          ]
        }
      ],
      "source": [
        "# Esempio\n",
        "testo = \"Ho urgentemente bisogno di modificare il pagamento PayPal dell'ordine #45678 del 15/01/2024\"\n",
        "risultato = analisi_completa(testo)\n",
        "print(\"\\nAnalisi completa:\")\n",
        "for chiave, valore in risultato.items():\n",
        "    print(f\"\\n{chiave}:\")\n",
        "    print(valore)"
      ]
    },
    {
      "cell_type": "code",
      "execution_count": null,
      "metadata": {
        "id": "CCNcQmyjEZ9v"
      },
      "outputs": [],
      "source": [
        "finale=[ analisi_completa(d) for d in data['Domanda utente'][:10]]"
      ]
    },
    {
      "cell_type": "code",
      "execution_count": null,
      "metadata": {
        "id": "mY2TIuPgEZ9v",
        "outputId": "faa0fb33-03ba-4dec-b666-99314af982f9"
      },
      "outputs": [
        {
          "data": {
            "text/plain": [
              "[{'testo': 'come inserire mio buono sconto 5\\x80',\n",
              "  'urgenza': 'bassa',\n",
              "  'entita': {'numeri_ordine': [],\n",
              "   'prodotti': [],\n",
              "   'metodi_pagamento': [],\n",
              "   'date': []},\n",
              "  'atto_linguistico': 'domanda_diretta'},\n",
              " {'testo': 'volevo acquistare un Prada edt per mio figlio e pagarlo in tre rate',\n",
              "  'urgenza': 'bassa',\n",
              "  'entita': {'numeri_ordine': [],\n",
              "   'prodotti': [],\n",
              "   'metodi_pagamento': [],\n",
              "   'date': []},\n",
              "  'atto_linguistico': 'altro'},\n",
              " {'testo': 'Salve ho effettuato un ordine che verrà spedito alla signora Maria Rossi vorrei che il pagamento venisse effettuato dalla medesima',\n",
              "  'urgenza': 'bassa',\n",
              "  'entita': {'numeri_ordine': [],\n",
              "   'prodotti': [],\n",
              "   'metodi_pagamento': [],\n",
              "   'date': []},\n",
              "  'atto_linguistico': 'altro'},\n",
              " {'testo': 'I punti ha la scadenza????',\n",
              "  'urgenza': 'bassa',\n",
              "  'entita': {'numeri_ordine': [],\n",
              "   'prodotti': [],\n",
              "   'metodi_pagamento': [],\n",
              "   'date': []},\n",
              "  'atto_linguistico': 'domanda_diretta'},\n",
              " {'testo': \"Avete un'app?\",\n",
              "  'urgenza': 'bassa',\n",
              "  'entita': {'numeri_ordine': [],\n",
              "   'prodotti': [],\n",
              "   'metodi_pagamento': [],\n",
              "   'date': []},\n",
              "  'atto_linguistico': 'domanda_diretta'}]"
            ]
          },
          "execution_count": 61,
          "metadata": {},
          "output_type": "execute_result"
        }
      ],
      "source": [
        "#finale"
      ]
    },
    {
      "cell_type": "code",
      "execution_count": null,
      "metadata": {
        "id": "ChpP2fGYEZ9v",
        "outputId": "72f551dc-4864-4742-eacd-fe99f958b498"
      },
      "outputs": [
        {
          "data": {
            "image/png": "[encoded data removed]",
            "text/plain": [
              "<Figure size 640x480 with 1 Axes>"
            ]
          },
          "metadata": {},
          "output_type": "display_data"
        }
      ],
      "source": [
        "plt.hist([d['urgenza'] for d in finale], bins=3, color='skyblue', edgecolor='black')\n",
        "plt.show()"
      ]
    },
    {
      "cell_type": "markdown",
      "metadata": {
        "id": "-CKKnGEyEZ9v"
      },
      "source": [
        "## NLTK Part-of-Speech Tagging POS Tagging"
      ]
    },
    {
      "cell_type": "code",
      "execution_count": null,
      "metadata": {
        "id": "hpQY_eKIEZ9w",
        "outputId": "973e6aa9-6cb7-4184-fe63-0dfa90d36040",
        "colab": {
          "base_uri": "https://localhost:8080/"
        }
      },
      "outputs": [
        {
          "output_type": "stream",
          "name": "stdout",
          "text": [
            "I: PRP\n",
            "would: MD\n",
            "like: VB\n",
            "to: TO\n",
            "cancel: VB\n",
            "my: PRP$\n",
            "order: NN\n"
          ]
        },
        {
          "output_type": "stream",
          "name": "stderr",
          "text": [
            "[nltk_data] Downloading package averaged_perceptron_tagger to\n",
            "[nltk_data]     /root/nltk_data...\n",
            "[nltk_data]   Package averaged_perceptron_tagger is already up-to-\n",
            "[nltk_data]       date!\n",
            "[nltk_data] Downloading package punkt to /root/nltk_data...\n",
            "[nltk_data]   Package punkt is already up-to-date!\n"
          ]
        }
      ],
      "source": [
        "# E' una tecnica di analisi linguistica che consiste nell'assegnare a ogni parola di un testo la sua parte del discorso (nome, verbo, aggettivo, ecc.).\n",
        "# Alternativa più avanzata al tokenization, che divide il testo in parole e frasi\n",
        "import nltk\n",
        "from nltk import pos_tag\n",
        "from nltk.tokenize import word_tokenize\n",
        "\n",
        "# Scarica il necessario (solo la prima volta)\n",
        "nltk.download('averaged_perceptron_tagger')\n",
        "nltk.download('punkt')\n",
        "\n",
        "# Esempio con una frase semplice\n",
        "testo = \"I would like to cancel my order\"\n",
        "# Dividiamo la frase in parole (tokenization)\n",
        "tokens = word_tokenize(testo)\n",
        "# Facciamo il POS tagging\n",
        "tagged = pos_tag(tokens)\n",
        "\n",
        "# Vediamo i risultati\n",
        "for parola, tag in tagged:\n",
        "    print(f\"{parola}: {tag}\")\n"
      ]
    },
    {
      "cell_type": "code",
      "execution_count": null,
      "metadata": {
        "id": "PF5lhXg0EZ9w"
      },
      "outputs": [],
      "source": [
        "# Tag principali per POS (Part-of-Speech) Tagging\n",
        "\n",
        "# Elenco completo dei POS (Part-of-Speech) tag per l'inglese utilizzati in NLTK\n",
        "\n",
        "# --- SOSTANTIVI ---\n",
        "# NN - Nome comune, singolare: book, dog, house\n",
        "# NNS - Nome comune, plurale: books, dogs, houses\n",
        "# NNP - Nome proprio, singolare: John, Rome, Google\n",
        "# NNPS - Nome proprio, plurale: Americans, Romans, Christians\n",
        "\n",
        "# --- PRONOMI ---\n",
        "# PRP - Pronome personale: I, you, he, she, it, we, they\n",
        "# PRP$ - Pronome possessivo: my, your, his, her, its, our, their\n",
        "# WP - Pronome wh: who, which, what\n",
        "# WP$ - Pronome possessivo wh: whose\n",
        "\n",
        "# --- VERBI ---\n",
        "# VB - Verbo, forma base: go, write, eat\n",
        "# VBD - Verbo, passato: went, wrote, ate\n",
        "# VBG - Verbo, gerundio/participio presente: going, writing, eating\n",
        "# VBN - Verbo, participio passato: gone, written, eaten\n",
        "# VBP - Verbo, presente non 3a persona singolare: go, write, eat\n",
        "# VBZ - Verbo, presente 3a persona singolare: goes, writes, eats\n",
        "# MD - Verbo modale: can, could, must, should\n",
        "\n",
        "# --- AGGETTIVI ---\n",
        "# JJ - Aggettivo: good, big, red\n",
        "# JJR - Aggettivo comparativo: better, bigger\n",
        "# JJS - Aggettivo superlativo: best, biggest\n",
        "\n",
        "# --- AVVERBI ---\n",
        "# RB - Avverbio: quickly, silently, well\n",
        "# RBR - Avverbio comparativo: better, faster\n",
        "# RBS - Avverbio superlativo: best, fastest\n",
        "# WRB - Avverbio wh: where, when, why\n",
        "\n",
        "# --- PUNTEGGIATURA ---\n",
        "# . - Punto\n",
        "# , - Virgola\n",
        "# : - Due punti\n",
        "# ( - Parentesi aperta\n",
        "# ) - Parentesi chiusa\n",
        "# \" - Virgolette\n",
        "# ' - Apostrofo"
      ]
    },
    {
      "cell_type": "code",
      "execution_count": null,
      "metadata": {
        "id": "640d8o91EZ9w"
      },
      "outputs": [],
      "source": []
    },
    {
      "cell_type": "markdown",
      "source": [],
      "metadata": {
        "id": "ZGhRQPvGD3w8"
      }
    }
  ]
}